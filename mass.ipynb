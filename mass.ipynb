{
 "cells": [
  {
   "cell_type": "code",
   "execution_count": 1,
   "id": "b83abb5a",
   "metadata": {},
   "outputs": [
    {
     "data": {
      "text/plain": [
       "441.2798662441"
      ]
     },
     "execution_count": 1,
     "metadata": {},
     "output_type": "execute_result"
    }
   ],
   "source": [
    "import pyopenms\n",
    "from pyopenms import *\n",
    "import pyopenms as SQ\n",
    "\n",
    "summ=0\n",
    "\n",
    "seq = SQ.AASequence.fromString(\"VAKA\")\n",
    "\n",
    "for aa in seq:\n",
    "\n",
    "    summ+=aa.getMonoWeight()\n",
    "\n",
    "summ"
   ]
  },
  {
   "cell_type": "code",
   "execution_count": 2,
   "id": "6620c5cd",
   "metadata": {},
   "outputs": [
    {
     "data": {
      "text/plain": [
       "387.2481710527"
      ]
     },
     "execution_count": 2,
     "metadata": {},
     "output_type": "execute_result"
    }
   ],
   "source": [
    "seq=SQ.AASequence.fromString(\"VAKA\")\n",
    "\n",
    "total=seq.getMonoWeight()\n",
    "\n",
    "total"
   ]
  },
  {
   "cell_type": "code",
   "execution_count": null,
   "id": "51e35b0c",
   "metadata": {},
   "outputs": [],
   "source": []
  }
 ],
 "metadata": {
  "kernelspec": {
   "display_name": "Python 3 (ipykernel)",
   "language": "python",
   "name": "python3"
  },
  "language_info": {
   "codemirror_mode": {
    "name": "ipython",
    "version": 3
   },
   "file_extension": ".py",
   "mimetype": "text/x-python",
   "name": "python",
   "nbconvert_exporter": "python",
   "pygments_lexer": "ipython3",
   "version": "3.9.7"
  }
 },
 "nbformat": 4,
 "nbformat_minor": 5
}
